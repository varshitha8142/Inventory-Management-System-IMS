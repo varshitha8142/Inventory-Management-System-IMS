{
  "nbformat": 4,
  "nbformat_minor": 0,
  "metadata": {
    "colab": {
      "name": "Inventory Management System (IMS).ipynb",
      "provenance": []
    },
    "kernelspec": {
      "name": "python3",
      "display_name": "Python 3"
    },
    "language_info": {
      "name": "python"
    }
  },
  "cells": [
    {
      "cell_type": "code",
      "metadata": {
        "id": "oLgtIcid7r6q"
      },
      "source": [
        "import json\n",
        "fd = open(\"record.json\",'r')\n",
        "r = fd.read()\n",
        "fd.close()"
      ],
      "execution_count": 1,
      "outputs": []
    },
    {
      "cell_type": "code",
      "metadata": {
        "id": "nC9BL11K7yPS"
      },
      "source": [
        "records = json.loads(r)"
      ],
      "execution_count": 2,
      "outputs": []
    },
    {
      "cell_type": "code",
      "metadata": {
        "colab": {
          "base_uri": "https://localhost:8080/"
        },
        "id": "4kgV0-dq70LV",
        "outputId": "ce9aeaeb-186b-443e-d04e-3fb44fbfb313"
      },
      "source": [
        "records"
      ],
      "execution_count": 3,
      "outputs": [
        {
          "output_type": "execute_result",
          "data": {
            "text/plain": [
              "{'100': {'brand': 'Fluid lite',\n",
              "  'name': 'Keyboard',\n",
              "  'price': 1999,\n",
              "  'qn': 10,\n",
              "  'warrenty': '11-5-2024'},\n",
              " '91': {'brand': 'Fluid lite',\n",
              "  'expiry date': '2-5-2023',\n",
              "  'name': 'study chair',\n",
              "  'price': 100,\n",
              "  'qn': 34},\n",
              " '92': {'brand': 'one plus',\n",
              "  'expiry date': '3-5-2023',\n",
              "  'name': 'charger',\n",
              "  'price': 800,\n",
              "  'qn': 100},\n",
              " '93': {'brand': 'Fluid lite',\n",
              "  'expiry date': '4-5-2021',\n",
              "  'name': 'Drink',\n",
              "  'price': 85,\n",
              "  'qn': 100},\n",
              " '94': {'brand': 'parle',\n",
              "  'expiry date': '5-5-2022',\n",
              "  'name': 'Candy',\n",
              "  'price': 5,\n",
              "  'qn': 1000},\n",
              " '95': {'brand': 'Fluid lite',\n",
              "  'expiry date': '6-5-2021',\n",
              "  'name': 'water bottle',\n",
              "  'price': 20,\n",
              "  'qn': 100},\n",
              " '96': {'brand': 'iphone',\n",
              "  'name': 'Phone',\n",
              "  'price': 50000,\n",
              "  'qn': 10,\n",
              "  'warrenty ': '7-5-2023'},\n",
              " '97': {'brand': 'Fluid lite',\n",
              "  'expiry date': '8-5-2021',\n",
              "  'name': 'Mic',\n",
              "  'price': 1500,\n",
              "  'qn': 0},\n",
              " '98': {'brand': 'one plus',\n",
              "  'expiry date': '9-5-2022',\n",
              "  'name': 'Case',\n",
              "  'price': 599,\n",
              "  'qn': 5},\n",
              " '99': {'brand': 'sony',\n",
              "  'name': 'ear buds',\n",
              "  'price': 1599,\n",
              "  'qn': 5,\n",
              "  'warrenty': '10-5-2022'}}"
            ]
          },
          "metadata": {},
          "execution_count": 3
        }
      ]
    },
    {
      "cell_type": "code",
      "metadata": {
        "colab": {
          "base_uri": "https://localhost:8080/"
        },
        "id": "P5bUNMzp712K",
        "outputId": "6884c61e-b744-455c-f4a8-0bebbc254e43"
      },
      "source": [
        "ui_prod  = str(input(\"Enter the product_Id: \"))\n",
        "ui_quant = int(input(\"Enter the quantity: \"))\n",
        "\n",
        "\n",
        "print(\"Product: \", records[ui_prod]['name'])\n",
        "print(\"Price: \", records[ui_prod]['price'])\n",
        "print(\"expiry date or warrenty: \", records[ui_prod]['expiry date'])\n",
        "print(\"brand: \", records[ui_prod]['brand'])\n",
        "print(\"Billing Amount: \", records[ui_prod]['price'] * ui_quant)\n",
        "\n",
        "records[ui_prod]['qn'] = records[ui_prod]['qn'] - ui_quant"
      ],
      "execution_count": 4,
      "outputs": [
        {
          "output_type": "stream",
          "name": "stdout",
          "text": [
            "Enter the product_Id: 92\n",
            "Enter the quantity: 2\n",
            "Product:  charger\n",
            "Price:  800\n",
            "expiry date or warrenty:  3-5-2023\n",
            "brand:  one plus\n",
            "Billing Amount:  1600\n"
          ]
        }
      ]
    },
    {
      "cell_type": "markdown",
      "metadata": {
        "id": "8DompCQ-8Bn7"
      },
      "source": [
        "# ***`Update Inventory after purchase`***"
      ]
    },
    {
      "cell_type": "code",
      "metadata": {
        "id": "BS5RABnE74_B"
      },
      "source": [
        "data = json.dumps(records)"
      ],
      "execution_count": 5,
      "outputs": []
    },
    {
      "cell_type": "code",
      "metadata": {
        "colab": {
          "base_uri": "https://localhost:8080/"
        },
        "id": "Ocv1PDzy8FNZ",
        "outputId": "af474bcf-857b-46bc-8cbe-be15c336e6e2"
      },
      "source": [
        "records"
      ],
      "execution_count": 6,
      "outputs": [
        {
          "output_type": "execute_result",
          "data": {
            "text/plain": [
              "{'100': {'brand': 'Fluid lite',\n",
              "  'name': 'Keyboard',\n",
              "  'price': 1999,\n",
              "  'qn': 10,\n",
              "  'warrenty': '11-5-2024'},\n",
              " '91': {'brand': 'Fluid lite',\n",
              "  'expiry date': '2-5-2023',\n",
              "  'name': 'study chair',\n",
              "  'price': 100,\n",
              "  'qn': 34},\n",
              " '92': {'brand': 'one plus',\n",
              "  'expiry date': '3-5-2023',\n",
              "  'name': 'charger',\n",
              "  'price': 800,\n",
              "  'qn': 98},\n",
              " '93': {'brand': 'Fluid lite',\n",
              "  'expiry date': '4-5-2021',\n",
              "  'name': 'Drink',\n",
              "  'price': 85,\n",
              "  'qn': 100},\n",
              " '94': {'brand': 'parle',\n",
              "  'expiry date': '5-5-2022',\n",
              "  'name': 'Candy',\n",
              "  'price': 5,\n",
              "  'qn': 1000},\n",
              " '95': {'brand': 'Fluid lite',\n",
              "  'expiry date': '6-5-2021',\n",
              "  'name': 'water bottle',\n",
              "  'price': 20,\n",
              "  'qn': 100},\n",
              " '96': {'brand': 'iphone',\n",
              "  'name': 'Phone',\n",
              "  'price': 50000,\n",
              "  'qn': 10,\n",
              "  'warrenty ': '7-5-2023'},\n",
              " '97': {'brand': 'Fluid lite',\n",
              "  'expiry date': '8-5-2021',\n",
              "  'name': 'Mic',\n",
              "  'price': 1500,\n",
              "  'qn': 0},\n",
              " '98': {'brand': 'one plus',\n",
              "  'expiry date': '9-5-2022',\n",
              "  'name': 'Case',\n",
              "  'price': 599,\n",
              "  'qn': 5},\n",
              " '99': {'brand': 'sony',\n",
              "  'name': 'ear buds',\n",
              "  'price': 1599,\n",
              "  'qn': 5,\n",
              "  'warrenty': '10-5-2022'}}"
            ]
          },
          "metadata": {},
          "execution_count": 6
        }
      ]
    },
    {
      "cell_type": "markdown",
      "metadata": {
        "id": "VgPQVPrx8Kcz"
      },
      "source": [
        "# **Adding new data to previous data**"
      ]
    },
    {
      "cell_type": "code",
      "metadata": {
        "id": "ThvKDStt8G66"
      },
      "source": [
        "record= {\n",
        "    101: {\"Product name\": \"text books\" , \"price\" : 80 , \"In stock items\" : 30 },\n",
        "    102: {\"Product name\": \"pens\", \"Price\": 30, \"In stock items\": 100},\n",
        "    103: {\"Product name\": \"laptop\", \"Price\": 55000, \"In stock items\": 90}, \n",
        "    104: {\"Product name\": \"mouse\", \"Price\": 2500, \"In stock items\": 100}, \n",
        "    105: {\"Product name\": \"key board\", \"Price\": 300, \"In stock items\": 80}, \n",
        "    106: {\"Product name\": \"ear phones\", \"Price\": 2000, \"In stock items\": 80}, \n",
        "    107: {\"Product name\": \"mobiles\", \"Price\": 30000, \"In stock items\": 100}, \n",
        "    108: {\"Product name\": \"Good Day Biscuits\", \"Price\": 20, \"In stock items\": 70}, \n",
        "    109: {\"Product name\": \"Oatmeal Biscuits\", \"Price\": 50, \"In stock items\": 90}, \n",
        "    110: {\"Product name\": \"Raisins Packet\", \"Price\": 200, \"In stock items\": 500}, \n",
        "    111: {\"Product name\": \"Mixed Fruit jam\", \"Price\": 135, \"In stock items\": 90}, \n",
        "    112: {\"Product name\": \"Mango Jam\", \"Price\": 130, \"In stock items\": 100}, \n",
        "    113: {\"Product name\": \"Blueberry Jam\", \"Price\": 160, \"In stock items\": 50},\n",
        "    114: {\"Product name\": \"Maggi Noodles\", \"Price\": 40, \"In stock items\": 500}, \n",
        "    115: {\"Product name\": \"Schezwan Chutney\", \"Price\": 15, \"In stock items\": 100}, \n",
        "    116: {\"Product name\": \"Chings Noodles\", \"Price\": 20, \"In stock items\": 70}, \n",
        "    117: {\"Product name\": \"Saffola Oats\", \"Price\": 120, \"In stock items\": 90}, \n",
        "    118: {\"Product name\": \"Saffola Oodles\", \"Price\": 50, \"In stock items\": 50}, \n",
        "    119: {\"Product name\": \"Kelloggs Oats\", \"Price\": 75, \"In stock items\": 90}, \n",
        "    120: {\"Product name\": \"Kelloggs Muesli\", \"Price\": 200, \"In stock items\": 70}, \n",
        "    121: {\"Product name\": \"Peanut Butter\", \"Price\": 160, \"In stock items\": 80}, \n",
        "    122: {\"Product name\": \"Dry Fruits\", \"Price\": 500, \"In stock items\": 120}, \n",
        "    123: {\"Product name\": \"Henz Ketchup\", \"Price\": 30, \"In stock items\": 100}, \n",
        "    124: {\"Product name\": \"Kissan Ketchup\", \"Price\": 15, \"In stock items\": 70}, \n",
        "    125: {\"Product name\": \"Maggi Ketchup\", \"Price\": 30, \"In stock items\": 90}, \n",
        "    126: {\"Product name\": \"Toothbrush\", \"Price\": 20, \"In stock items\": 100}, \n",
        "    127: {\"Product name\": \"Toothpaste\", \"Price\": 90, \"In stock items\": 90}, \n",
        "    128: {\"Product name\": \"Mortein refil\", \"Price\": 100, \"In stock items\": 100},\n",
        "    129: {\"Product name\": \"Hit Spray \", \"Price\": 100, \"In stock items\": 50}, \n",
        "    130: {\"Product name\": \"choclates\", \"Price\": 40, \"In stock items\": 20}\n",
        "    \n",
        "    \n",
        "}"
      ],
      "execution_count": 7,
      "outputs": []
    },
    {
      "cell_type": "markdown",
      "metadata": {
        "id": "gSacHOFY8nm4"
      },
      "source": [
        "# **Inventory JSON**"
      ]
    },
    {
      "cell_type": "code",
      "metadata": {
        "id": "DC2nSAlF8OJW"
      },
      "source": [
        "updated_data = json.dumps(record)"
      ],
      "execution_count": 8,
      "outputs": []
    },
    {
      "cell_type": "code",
      "metadata": {
        "id": "uXFBNEwi8qQV"
      },
      "source": [
        "total_data=data+updated_data\n",
        "fd = open(\"record.json\",'w')\n",
        "fd.write(total_data)\n",
        "fd.close()"
      ],
      "execution_count": 9,
      "outputs": []
    },
    {
      "cell_type": "code",
      "metadata": {
        "colab": {
          "base_uri": "https://localhost:8080/",
          "height": 441
        },
        "id": "uq1fBbzL8sUf",
        "outputId": "23c3267a-dc3f-44cb-f567-0230d05e1654"
      },
      "source": [
        "total_data"
      ],
      "execution_count": 10,
      "outputs": [
        {
          "output_type": "execute_result",
          "data": {
            "application/vnd.google.colaboratory.intrinsic+json": {
              "type": "string"
            },
            "text/plain": [
              "'{\"91\": {\"name\": \"study chair\", \"price\": 100, \"qn\": 34, \"expiry date\": \"2-5-2023\", \"brand\": \"Fluid lite\"}, \"92\": {\"name\": \"charger\", \"price\": 800, \"qn\": 98, \"expiry date\": \"3-5-2023\", \"brand\": \"one plus\"}, \"93\": {\"name\": \"Drink\", \"price\": 85, \"qn\": 100, \"expiry date\": \"4-5-2021\", \"brand\": \"Fluid lite\"}, \"94\": {\"name\": \"Candy\", \"price\": 5, \"qn\": 1000, \"expiry date\": \"5-5-2022\", \"brand\": \"parle\"}, \"95\": {\"name\": \"water bottle\", \"price\": 20, \"qn\": 100, \"expiry date\": \"6-5-2021\", \"brand\": \"Fluid lite\"}, \"96\": {\"name\": \"Phone\", \"price\": 50000, \"qn\": 10, \"warrenty \": \"7-5-2023\", \"brand\": \"iphone\"}, \"97\": {\"name\": \"Mic\", \"price\": 1500, \"qn\": 0, \"expiry date\": \"8-5-2021\", \"brand\": \"Fluid lite\"}, \"98\": {\"name\": \"Case\", \"price\": 599, \"qn\": 5, \"expiry date\": \"9-5-2022\", \"brand\": \"one plus\"}, \"99\": {\"name\": \"ear buds\", \"price\": 1599, \"qn\": 5, \"warrenty\": \"10-5-2022\", \"brand\": \"sony\"}, \"100\": {\"name\": \"Keyboard\", \"price\": 1999, \"qn\": 10, \"warrenty\": \"11-5-2024\", \"brand\": \"Fluid lite\"}}{\"101\": {\"Product name\": \"text books\", \"price\": 80, \"In stock items\": 30}, \"102\": {\"Product name\": \"pens\", \"Price\": 30, \"In stock items\": 100}, \"103\": {\"Product name\": \"laptop\", \"Price\": 55000, \"In stock items\": 90}, \"104\": {\"Product name\": \"mouse\", \"Price\": 2500, \"In stock items\": 100}, \"105\": {\"Product name\": \"key board\", \"Price\": 300, \"In stock items\": 80}, \"106\": {\"Product name\": \"ear phones\", \"Price\": 2000, \"In stock items\": 80}, \"107\": {\"Product name\": \"mobiles\", \"Price\": 30000, \"In stock items\": 100}, \"108\": {\"Product name\": \"Good Day Biscuits\", \"Price\": 20, \"In stock items\": 70}, \"109\": {\"Product name\": \"Oatmeal Biscuits\", \"Price\": 50, \"In stock items\": 90}, \"110\": {\"Product name\": \"Raisins Packet\", \"Price\": 200, \"In stock items\": 500}, \"111\": {\"Product name\": \"Mixed Fruit jam\", \"Price\": 135, \"In stock items\": 90}, \"112\": {\"Product name\": \"Mango Jam\", \"Price\": 130, \"In stock items\": 100}, \"113\": {\"Product name\": \"Blueberry Jam\", \"Price\": 160, \"In stock items\": 50}, \"114\": {\"Product name\": \"Maggi Noodles\", \"Price\": 40, \"In stock items\": 500}, \"115\": {\"Product name\": \"Schezwan Chutney\", \"Price\": 15, \"In stock items\": 100}, \"116\": {\"Product name\": \"Chings Noodles\", \"Price\": 20, \"In stock items\": 70}, \"117\": {\"Product name\": \"Saffola Oats\", \"Price\": 120, \"In stock items\": 90}, \"118\": {\"Product name\": \"Saffola Oodles\", \"Price\": 50, \"In stock items\": 50}, \"119\": {\"Product name\": \"Kelloggs Oats\", \"Price\": 75, \"In stock items\": 90}, \"120\": {\"Product name\": \"Kelloggs Muesli\", \"Price\": 200, \"In stock items\": 70}, \"121\": {\"Product name\": \"Peanut Butter\", \"Price\": 160, \"In stock items\": 80}, \"122\": {\"Product name\": \"Dry Fruits\", \"Price\": 500, \"In stock items\": 120}, \"123\": {\"Product name\": \"Henz Ketchup\", \"Price\": 30, \"In stock items\": 100}, \"124\": {\"Product name\": \"Kissan Ketchup\", \"Price\": 15, \"In stock items\": 70}, \"125\": {\"Product name\": \"Maggi Ketchup\", \"Price\": 30, \"In stock items\": 90}, \"126\": {\"Product name\": \"Toothbrush\", \"Price\": 20, \"In stock items\": 100}, \"127\": {\"Product name\": \"Toothpaste\", \"Price\": 90, \"In stock items\": 90}, \"128\": {\"Product name\": \"Mortein refil\", \"Price\": 100, \"In stock items\": 100}, \"129\": {\"Product name\": \"Hit Spray \", \"Price\": 100, \"In stock items\": 50}, \"130\": {\"Product name\": \"choclates\", \"Price\": 40, \"In stock items\": 20}}'"
            ]
          },
          "metadata": {},
          "execution_count": 10
        }
      ]
    },
    {
      "cell_type": "code",
      "metadata": {
        "colab": {
          "base_uri": "https://localhost:8080/"
        },
        "id": "OCRsrdHY8t7M",
        "outputId": "a6f9d4ef-3a8b-4fe6-b770-94b57fcdfd5b"
      },
      "source": [
        "len(total_data) # it prints number of letters in total_data"
      ],
      "execution_count": 11,
      "outputs": [
        {
          "output_type": "execute_result",
          "data": {
            "text/plain": [
              "3284"
            ]
          },
          "metadata": {},
          "execution_count": 11
        }
      ]
    },
    {
      "cell_type": "code",
      "metadata": {
        "colab": {
          "base_uri": "https://localhost:8080/"
        },
        "id": "A2KS9keq8xNX",
        "outputId": "e70670b1-46f1-4fab-eeac-836cb5866d12"
      },
      "source": [
        "len(set(total_data)) #here it prints unique letters(duplicates will be deleted)"
      ],
      "execution_count": 12,
      "outputs": [
        {
          "output_type": "execute_result",
          "data": {
            "text/plain": [
              "58"
            ]
          },
          "metadata": {},
          "execution_count": 12
        }
      ]
    },
    {
      "cell_type": "markdown",
      "metadata": {
        "id": "9Zkq965k81LL"
      },
      "source": [
        "# **Add New Item into Inventory**"
      ]
    },
    {
      "cell_type": "code",
      "metadata": {
        "colab": {
          "base_uri": "https://localhost:8080/"
        },
        "id": "6Cdrq-US8y63",
        "outputId": "b6b53c7c-c125-40b6-c54b-d058ec57efdd"
      },
      "source": [
        "prod_id = str(input(\"Enter product id:\"))\n",
        "name = str(input(\"Enter name:\"))\n",
        "pr = int(input(\"Enter price:\"))\n",
        "qn = int(input(\"Enter quantity:\"))\n",
        "mode_of_payment=str(input(\"Enter mode of payment :\"))\n",
        "records[prod_id] = {'name': name, 'pr': pr, 'qn': qn}\n",
        "\n",
        "js = json.dumps(record)\n",
        "\n",
        "fd = open(\"record.json\",'w')\n",
        "fd.write(js)\n",
        "fd.close()"
      ],
      "execution_count": 26,
      "outputs": [
        {
          "name": "stdout",
          "output_type": "stream",
          "text": [
            "Enter product id:300\n",
            "Enter name:shoes\n",
            "Enter price:2000\n",
            "Enter quantity:1\n",
            "Enter mode of payment :card\n"
          ]
        }
      ]
    },
    {
      "cell_type": "code",
      "metadata": {
        "colab": {
          "base_uri": "https://localhost:8080/",
          "height": 159
        },
        "id": "FiCMPTat832Q",
        "outputId": "3ecaf34c-48d3-409a-b460-935f49608c7a"
      },
      "source": [
        "js"
      ],
      "execution_count": 27,
      "outputs": [
        {
          "output_type": "execute_result",
          "data": {
            "application/vnd.google.colaboratory.intrinsic+json": {
              "type": "string"
            },
            "text/plain": [
              "'{\"101\": {\"Product name\": \"text books\", \"price\": 80, \"In stock items\": 30}, \"102\": {\"Product name\": \"pens\", \"Price\": 30, \"In stock items\": 100}, \"103\": {\"Product name\": \"laptop\", \"Price\": 55000, \"In stock items\": 90}, \"104\": {\"Product name\": \"mouse\", \"Price\": 2500, \"In stock items\": 100}, \"105\": {\"Product name\": \"key board\", \"Price\": 300, \"In stock items\": 80}, \"106\": {\"Product name\": \"ear phones\", \"Price\": 2000, \"In stock items\": 80}, \"107\": {\"Product name\": \"mobiles\", \"Price\": 30000, \"In stock items\": 100}, \"108\": {\"Product name\": \"Good Day Biscuits\", \"Price\": 20, \"In stock items\": 70}, \"109\": {\"Product name\": \"Oatmeal Biscuits\", \"Price\": 50, \"In stock items\": 90}, \"110\": {\"Product name\": \"Raisins Packet\", \"Price\": 200, \"In stock items\": 500}, \"111\": {\"Product name\": \"Mixed Fruit jam\", \"Price\": 135, \"In stock items\": 90}, \"112\": {\"Product name\": \"Mango Jam\", \"Price\": 130, \"In stock items\": 100}, \"113\": {\"Product name\": \"Blueberry Jam\", \"Price\": 160, \"In stock items\": 50}, \"114\": {\"Product name\": \"Maggi Noodles\", \"Price\": 40, \"In stock items\": 500}, \"115\": {\"Product name\": \"Schezwan Chutney\", \"Price\": 15, \"In stock items\": 100}, \"116\": {\"Product name\": \"Chings Noodles\", \"Price\": 20, \"In stock items\": 70}, \"117\": {\"Product name\": \"Saffola Oats\", \"Price\": 120, \"In stock items\": 90}, \"118\": {\"Product name\": \"Saffola Oodles\", \"Price\": 50, \"In stock items\": 50}, \"119\": {\"Product name\": \"Kelloggs Oats\", \"Price\": 75, \"In stock items\": 90}, \"120\": {\"Product name\": \"Kelloggs Muesli\", \"Price\": 200, \"In stock items\": 70}, \"121\": {\"Product name\": \"Peanut Butter\", \"Price\": 160, \"In stock items\": 80}, \"122\": {\"Product name\": \"Dry Fruits\", \"Price\": 500, \"In stock items\": 120}, \"123\": {\"Product name\": \"Henz Ketchup\", \"Price\": 30, \"In stock items\": 100}, \"124\": {\"Product name\": \"Kissan Ketchup\", \"Price\": 15, \"In stock items\": 70}, \"125\": {\"Product name\": \"Maggi Ketchup\", \"Price\": 30, \"In stock items\": 90}, \"126\": {\"Product name\": \"Toothbrush\", \"Price\": 20, \"In stock items\": 100}, \"127\": {\"Product name\": \"Toothpaste\", \"Price\": 90, \"In stock items\": 90}, \"128\": {\"Product name\": \"Mortein refil\", \"Price\": 100, \"In stock items\": 100}, \"129\": {\"Product name\": \"Hit Spray \", \"Price\": 100, \"In stock items\": 50}, \"130\": {\"Product name\": \"choclates\", \"Price\": 40, \"In stock items\": 20}}'"
            ]
          },
          "metadata": {},
          "execution_count": 27
        }
      ]
    },
    {
      "cell_type": "code",
      "metadata": {
        "colab": {
          "base_uri": "https://localhost:8080/"
        },
        "id": "FwCp_6WhO-02",
        "outputId": "189df6e6-4ac0-4272-df9b-c044f36b70e7"
      },
      "source": [
        "len(js)"
      ],
      "execution_count": 28,
      "outputs": [
        {
          "output_type": "execute_result",
          "data": {
            "text/plain": [
              "2298"
            ]
          },
          "metadata": {},
          "execution_count": 28
        }
      ]
    },
    {
      "cell_type": "markdown",
      "metadata": {
        "id": "DTNrd2CvUBpM"
      },
      "source": [
        "# **TIME**"
      ]
    },
    {
      "cell_type": "code",
      "metadata": {
        "id": "R06QsnQfSb01"
      },
      "source": [
        "import time"
      ],
      "execution_count": 29,
      "outputs": []
    },
    {
      "cell_type": "code",
      "metadata": {
        "id": "OBn58VUyTyFH"
      },
      "source": [
        "time.ctime()"
      ],
      "execution_count": null,
      "outputs": []
    },
    {
      "cell_type": "code",
      "metadata": {
        "colab": {
          "base_uri": "https://localhost:8080/"
        },
        "id": "cfHyAsVZT3Pi",
        "outputId": "f4a66c4b-babf-479b-f904-3d8b4f9d9f07"
      },
      "source": [
        "print(\"**********************************---THANK YOU---************************************************\")"
      ],
      "execution_count": 32,
      "outputs": [
        {
          "output_type": "stream",
          "name": "stdout",
          "text": [
            "**********************************---THANK YOU---************************************************\n"
          ]
        }
      ]
    }
  ]
}